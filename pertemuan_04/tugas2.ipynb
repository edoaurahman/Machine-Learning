{
 "cells": [
  {
   "cell_type": "markdown",
   "metadata": {},
   "source": [
    "# Tugas 2\n",
    "\n",
    "**Buatlah model klasifikasi dengan menggunakan SVM berdasarkan data pada Percobaan 5 dengan menggunakan fitur histogram.**\n",
    "\n"
   ]
  },
  {
   "cell_type": "markdown",
   "metadata": {},
   "source": [
    "# Langkah 1: Import Library yang Diperlukan"
   ]
  },
  {
   "cell_type": "code",
   "execution_count": 51,
   "metadata": {},
   "outputs": [],
   "source": [
    "# Import Required Libraries\n",
    "from pathlib import Path\n",
    "import matplotlib.image as mpimg\n",
    "import matplotlib.pyplot as plt\n",
    "import cv2\n",
    "import numpy as np\n",
    "from sklearn.metrics import accuracy_score\n",
    "import os"
   ]
  },
  {
   "cell_type": "code",
   "execution_count": 52,
   "metadata": {},
   "outputs": [],
   "source": [
    "# Image directories\n",
    "train_dir = \"images/training\"\n",
    "test_dir = \"images/test\""
   ]
  },
  {
   "cell_type": "markdown",
   "metadata": {},
   "source": [
    "# Langkah 2: Fungsi untuk Menghitung Histogram"
   ]
  },
  {
   "cell_type": "code",
   "execution_count": 53,
   "metadata": {},
   "outputs": [],
   "source": [
    "def compute_histogram(image):\n",
    "    # Convert the image to HSV\n",
    "    hsv = cv2.cvtColor(image, cv2.COLOR_RGB2HSV)\n",
    "    \n",
    "    # Compute the histogram (16 bins for each channel)\n",
    "    hist = cv2.calcHist([hsv], [0, 1, 2], None, [16, 16, 16], [0, 180, 0, 256, 0, 256])\n",
    "    \n",
    "    # Normalize the histogram\n",
    "    cv2.normalize(hist, hist)\n",
    "    \n",
    "    # Flatten the histogram to create the feature vector\n",
    "    return hist.flatten()\n"
   ]
  },
  {
   "cell_type": "code",
   "execution_count": 54,
   "metadata": {},
   "outputs": [],
   "source": [
    "def standarized_input(image):\n",
    "    # resize to w: 1100, h:600\n",
    "    std_img = cv2.resize(image, (1100,600))\n",
    "\n",
    "    return std_img"
   ]
  },
  {
   "cell_type": "markdown",
   "metadata": {},
   "source": [
    "# Langkah 3: Fungsi untuk Membaca Gambar dan Label\n"
   ]
  },
  {
   "cell_type": "code",
   "execution_count": 55,
   "metadata": {},
   "outputs": [],
   "source": [
    "\n",
    "def load_data(directory):\n",
    "    data = []\n",
    "    labels = []\n",
    "    \n",
    "    for label in ['day', 'night']:\n",
    "        path = os.path.join(directory, label)\n",
    "        for filename in os.listdir(path):\n",
    "            if filename.endswith('.jpg') or filename.endswith('.png'):\n",
    "                img_path = os.path.join(path, filename)\n",
    "                \n",
    "                # Read and resize the image\n",
    "                image = cv2.imread(img_path)\n",
    "                resized_image = standarized_input(image)\n",
    "                \n",
    "                # Compute histogram features\n",
    "                hist = compute_histogram(resized_image)\n",
    "                \n",
    "                # Append features and label\n",
    "                data.append(hist)\n",
    "                labels.append(0 if label == 'night' else 1)  # 0 for night, 1 for day\n",
    "                \n",
    "    return np.array(data), np.array(labels)\n"
   ]
  },
  {
   "cell_type": "markdown",
   "metadata": {},
   "source": [
    "# Langkah 4: Split Data train dan test"
   ]
  },
  {
   "cell_type": "code",
   "execution_count": 56,
   "metadata": {},
   "outputs": [],
   "source": [
    "train_data, train_labels = load_data(train_dir)\n",
    "test_data, test_labels = load_data(test_dir)"
   ]
  },
  {
   "cell_type": "code",
   "execution_count": 57,
   "metadata": {},
   "outputs": [
    {
     "name": "stdout",
     "output_type": "stream",
     "text": [
      "(240, 4096) 1\n"
     ]
    }
   ],
   "source": [
    "print(train_data.shape, train_labels[0])"
   ]
  },
  {
   "cell_type": "markdown",
   "metadata": {},
   "source": [
    "# Langkah 5: Membuat Pipeline dengan PCA dan SVM"
   ]
  },
  {
   "cell_type": "code",
   "execution_count": 58,
   "metadata": {},
   "outputs": [],
   "source": [
    "from sklearn.svm import SVC\n",
    "from sklearn.decomposition import PCA\n",
    "from sklearn.pipeline import Pipeline\n",
    "\n",
    "# Create a pipeline that combines PCA and the classifier\n",
    "pipe = Pipeline(steps=[\n",
    "    ('pca', PCA()),\n",
    "    ('svm', SVC)\n",
    "])"
   ]
  },
  {
   "cell_type": "code",
   "execution_count": 59,
   "metadata": {},
   "outputs": [
    {
     "name": "stdout",
     "output_type": "stream",
     "text": [
      "[1.1891913e-05 5.5891991e-04 3.1156812e-03 ... 0.0000000e+00 0.0000000e+00\n",
      " 0.0000000e+00]\n",
      "1\n"
     ]
    },
    {
     "data": {
      "text/plain": [
       "numpy.ndarray"
      ]
     },
     "execution_count": 59,
     "metadata": {},
     "output_type": "execute_result"
    }
   ],
   "source": [
    "print(train_data[0])\n",
    "print(train_labels[0])\n",
    "\n",
    "type(train_labels)"
   ]
  },
  {
   "cell_type": "markdown",
   "metadata": {},
   "source": [
    "# Langkah 6: Melakukan Grid Search untuk Hyperparameter Tuning"
   ]
  },
  {
   "cell_type": "code",
   "execution_count": 60,
   "metadata": {},
   "outputs": [
    {
     "name": "stdout",
     "output_type": "stream",
     "text": [
      "{'pca__n_components': 30, 'svm__C': 1, 'svm__kernel': 'rbf'}\n",
      "0.9916666666666666\n"
     ]
    }
   ],
   "source": [
    "from sklearn import svm\n",
    "from sklearn.pipeline import Pipeline\n",
    "from sklearn.decomposition import PCA\n",
    "from sklearn.model_selection import GridSearchCV\n",
    "\n",
    "# Create a pipeline with PCA and SVM\n",
    "pipe = Pipeline(steps=[\n",
    "    ('pca', PCA()),\n",
    "    ('svm', svm.SVC())\n",
    "])\n",
    "\n",
    "# Define the parameter grid for GridSearch\n",
    "param_grid = {\n",
    "    'pca__n_components': [10, 20, 30, 50],  # Number of PCA components\n",
    "    'svm__C': [0.1, 1, 10],                 # Regularization parameter for SVM\n",
    "    'svm__kernel': ['linear', 'rbf']         # Kernel types\n",
    "}\n",
    "\n",
    "# Initialize GridSearchCV\n",
    "grid_search = GridSearchCV(pipe, param_grid, cv=5, scoring='accuracy')\n",
    "\n",
    "# Fit the model on training data\n",
    "grid_search.fit(train_data, train_labels)\n",
    "print(grid_search.best_params_)\n",
    "print(grid_search.best_score_)\n"
   ]
  },
  {
   "cell_type": "markdown",
   "metadata": {},
   "source": [
    "# Langkah 7: Evaluasi Model dan Hasil Terbaik"
   ]
  },
  {
   "cell_type": "code",
   "execution_count": 61,
   "metadata": {},
   "outputs": [
    {
     "name": "stdout",
     "output_type": "stream",
     "text": [
      "Train Accuracy: 99.17%\n",
      "Test Accuracy: 96.88%\n"
     ]
    }
   ],
   "source": [
    "# Get the best model from GridSearch\n",
    "best_model = grid_search.best_estimator_\n",
    "\n",
    "# Predict on train data\n",
    "train_predictions = best_model.predict(train_data)\n",
    "# Predict on test data\n",
    "test_predictions = best_model.predict(test_data)\n",
    "\n",
    "# Evaluate accuracy\n",
    "train_accuracy = accuracy_score(train_labels, train_predictions)\n",
    "print(f\"Train Accuracy: {train_accuracy * 100:.2f}%\")\n",
    "\n",
    "test_accuracy = accuracy_score(test_labels, test_predictions)\n",
    "print(f\"Test Accuracy: {test_accuracy * 100:.2f}%\")\n",
    "\n"
   ]
  },
  {
   "cell_type": "code",
   "execution_count": 63,
   "metadata": {},
   "outputs": [],
   "source": [
    "# Test dengan OpenCV\n",
    "\n",
    "cap = cv2.VideoCapture(0)\n",
    "\n",
    "while True:\n",
    "    ret, frame = cap.read()\n",
    "    resized_frame = standarized_input(frame)\n",
    "    hist = compute_histogram(resized_frame)\n",
    "    pred = best_model.predict([hist])\n",
    "    cv2.putText(frame, 'Day' if pred == 1 else 'Night', (10, 30), cv2.FONT_HERSHEY_SIMPLEX, 1, (255, 255, 255), 2)\n",
    "    cv2.imshow('frame', frame)\n",
    "    \n",
    "    if cv2.waitKey(1) & 0xFF == ord('q'):\n",
    "        break\n",
    "\n",
    "cap.release()\n",
    "cv2.destroyAllWindows()"
   ]
  }
 ],
 "metadata": {
  "kernelspec": {
   "display_name": "tensorflow",
   "language": "python",
   "name": "python3"
  },
  "language_info": {
   "codemirror_mode": {
    "name": "ipython",
    "version": 3
   },
   "file_extension": ".py",
   "mimetype": "text/x-python",
   "name": "python",
   "nbconvert_exporter": "python",
   "pygments_lexer": "ipython3",
   "version": "3.10.14"
  }
 },
 "nbformat": 4,
 "nbformat_minor": 2
}
